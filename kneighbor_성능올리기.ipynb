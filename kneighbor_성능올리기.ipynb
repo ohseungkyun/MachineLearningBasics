{
 "cells": [
  {
   "cell_type": "code",
   "execution_count": 1,
   "id": "informational-mailman",
   "metadata": {},
   "outputs": [],
   "source": [
    "import numpy as np\n",
    "import matplotlib.pyplot as plt\n",
    "from sklearn.model_selection import train_test_split"
   ]
  },
  {
   "cell_type": "code",
   "execution_count": 2,
   "id": "improving-contact",
   "metadata": {},
   "outputs": [],
   "source": [
    "training_points = [\n",
    "    [158,58],[158,59],[158,63],[160,59],[160,60],[163,60],[163,61],[160,64],[163,64],[165,61],[165,62],[165,65],[168,62],[168,63],[168,66],[170,63],[170,64],[170,68]\n",
    "]\n",
    "\n",
    "training_labels=[0,0,0,0,0,0,0,1,1,1,1,1,1,1,1,1,1,1]"
   ]
  },
  {
   "cell_type": "code",
   "execution_count": 6,
   "id": "absent-raise",
   "metadata": {},
   "outputs": [
    {
     "name": "stdout",
     "output_type": "stream",
     "text": [
      "[0 0 1 1]\n"
     ]
    }
   ],
   "source": [
    "X_train, X_test, y_train, y_test = train_test_split(training_points, training_labels, test_size=0.2, random_state=4)\n",
    "from sklearn.neighbors import KNeighborsClassifier\n",
    "\n",
    "classifier = KNeighborsClassifier(n_neighbors = 1)\n",
    "classifier.fit(X_train, y_train)\n",
    "\n",
    "guesses = classifier.predict(X_test)\n",
    "print(guesses)"
   ]
  },
  {
   "cell_type": "code",
   "execution_count": 7,
   "id": "italian-contrary",
   "metadata": {},
   "outputs": [
    {
     "name": "stdout",
     "output_type": "stream",
     "text": [
      "[[2 0]\n",
      " [0 2]]\n"
     ]
    }
   ],
   "source": [
    "from sklearn.metrics import confusion_matrix\n",
    "print(confusion_matrix(y_test, guesses))"
   ]
  },
  {
   "cell_type": "code",
   "execution_count": 10,
   "id": "economic-difference",
   "metadata": {},
   "outputs": [],
   "source": [
    "from sklearn.datasets import load_breast_cancer\n",
    "\n",
    "cancer = load_breast_cancer()\n",
    "\n",
    "training_points = cancer.data\n",
    "training_labels = cancer.target\n",
    "\n",
    "from sklearn.model_selection import train_test_split\n",
    "\n",
    "X_train, X_test, y_train, y_test = train_test_split(training_points, training_labels, test_size = 0.2, random_state =4)\n",
    "\n",
    "from sklearn.neighbors import KNeighborsClassifier\n",
    "\n",
    "classifier = KNeighborsClassifier(n_neighbors = 5)\n",
    "classifier.fit(X_train,y_train)\n",
    "\n",
    "guesses = classifier.predict(X_test)"
   ]
  },
  {
   "cell_type": "code",
   "execution_count": 11,
   "id": "beautiful-magic",
   "metadata": {},
   "outputs": [
    {
     "name": "stdout",
     "output_type": "stream",
     "text": [
      "[[29  5]\n",
      " [ 9 71]]\n"
     ]
    }
   ],
   "source": [
    "print(confusion_matrix(y_test, guesses))"
   ]
  },
  {
   "cell_type": "code",
   "execution_count": 13,
   "id": "guilty-blocking",
   "metadata": {},
   "outputs": [
    {
     "name": "stdout",
     "output_type": "stream",
     "text": [
      "0.8771929824561403\n"
     ]
    }
   ],
   "source": [
    "from sklearn import metrics\n",
    "print(metrics.accuracy_score(y_test,guesses))"
   ]
  },
  {
   "cell_type": "code",
   "execution_count": 14,
   "id": "accessible-ethiopia",
   "metadata": {},
   "outputs": [
    {
     "name": "stdout",
     "output_type": "stream",
     "text": [
      "0.9342105263157895\n"
     ]
    }
   ],
   "source": [
    "print(metrics.precision_score(y_test,guesses,average='binary'))"
   ]
  },
  {
   "cell_type": "code",
   "execution_count": 15,
   "id": "intelligent-killing",
   "metadata": {},
   "outputs": [
    {
     "name": "stdout",
     "output_type": "stream",
     "text": [
      "0.8875\n"
     ]
    }
   ],
   "source": [
    "print(metrics.recall_score(y_test,guesses,average='binary'))"
   ]
  },
  {
   "cell_type": "code",
   "execution_count": 16,
   "id": "numeric-commissioner",
   "metadata": {},
   "outputs": [
    {
     "name": "stdout",
     "output_type": "stream",
     "text": [
      "0.9102564102564101\n"
     ]
    }
   ],
   "source": [
    "print(metrics.f1_score(y_test,guesses,average='binary'))"
   ]
  },
  {
   "cell_type": "code",
   "execution_count": 17,
   "id": "featured-track",
   "metadata": {},
   "outputs": [],
   "source": [
    "import pandas as pd"
   ]
  },
  {
   "cell_type": "code",
   "execution_count": 18,
   "id": "charitable-malawi",
   "metadata": {},
   "outputs": [],
   "source": [
    "df = pd.read_csv('heart.csv')"
   ]
  },
  {
   "cell_type": "code",
   "execution_count": 19,
   "id": "accomplished-aging",
   "metadata": {},
   "outputs": [
    {
     "name": "stdout",
     "output_type": "stream",
     "text": [
      "   age  sex  cp  trestbps  chol  fbs  restecg  thalach  exang  oldpeak  slope  \\\n",
      "0   63    1   1       145   233    1        2      150      0      2.3      3   \n",
      "1   67    1   4       160   286    0        2      108      1      1.5      2   \n",
      "2   67    1   4       120   229    0        2      129      1      2.6      2   \n",
      "3   37    1   3       130   250    0        0      187      0      3.5      3   \n",
      "4   41    0   2       130   204    0        2      172      0      1.4      1   \n",
      "\n",
      "   ca        thal  target  \n",
      "0   0       fixed       0  \n",
      "1   3      normal       1  \n",
      "2   2  reversible       0  \n",
      "3   0      normal       0  \n",
      "4   0      normal       0  \n",
      "(303, 14)\n",
      "<class 'pandas.core.frame.DataFrame'>\n",
      "RangeIndex: 303 entries, 0 to 302\n",
      "Data columns (total 14 columns):\n",
      " #   Column    Non-Null Count  Dtype  \n",
      "---  ------    --------------  -----  \n",
      " 0   age       303 non-null    int64  \n",
      " 1   sex       303 non-null    int64  \n",
      " 2   cp        303 non-null    int64  \n",
      " 3   trestbps  303 non-null    int64  \n",
      " 4   chol      303 non-null    int64  \n",
      " 5   fbs       303 non-null    int64  \n",
      " 6   restecg   303 non-null    int64  \n",
      " 7   thalach   303 non-null    int64  \n",
      " 8   exang     303 non-null    int64  \n",
      " 9   oldpeak   303 non-null    float64\n",
      " 10  slope     303 non-null    int64  \n",
      " 11  ca        303 non-null    int64  \n",
      " 12  thal      303 non-null    object \n",
      " 13  target    303 non-null    int64  \n",
      "dtypes: float64(1), int64(12), object(1)\n",
      "memory usage: 33.3+ KB\n",
      "None\n"
     ]
    }
   ],
   "source": [
    "print(df.head())\n",
    "print(df.shape)\n",
    "print(df.info())"
   ]
  },
  {
   "cell_type": "code",
   "execution_count": 20,
   "id": "experimental-quantum",
   "metadata": {},
   "outputs": [
    {
     "data": {
      "image/png": "[encoded data removed]",
      "text/plain": [
       "<Figure size 432x288 with 1 Axes>"
      ]
     },
     "metadata": {
      "needs_background": "light"
     },
     "output_type": "display_data"
    }
   ],
   "source": [
    "plt.hist(df['trestbps'])\n",
    "plt.xlabel('Resting Blood Pressure')\n",
    "plt.ylabel('Value')\n",
    "plt.show()"
   ]
  },
  {
   "cell_type": "code",
   "execution_count": 21,
   "id": "advance-criminal",
   "metadata": {},
   "outputs": [
    {
     "data": {
      "image/png": "[encoded data removed]",
      "text/plain": [
       "<Figure size 432x288 with 1 Axes>"
      ]
     },
     "metadata": {
      "needs_background": "light"
     },
     "output_type": "display_data"
    }
   ],
   "source": [
    "data_to_boxplot=[df['age'],df['trestbps'],df['chol'],df['thalach'],df['oldpeak']]\n",
    "plt.boxplot(data_to_boxplot)\n",
    "plt.xlabel('Attributes')\n",
    "plt.ylabel('Value')\n",
    "plt.show()"
   ]
  },
  {
   "cell_type": "code",
   "execution_count": 23,
   "id": "buried-playing",
   "metadata": {},
   "outputs": [
    {
     "name": "stdout",
     "output_type": "stream",
     "text": [
      "age         0\n",
      "sex         0\n",
      "cp          0\n",
      "trestbps    0\n",
      "chol        0\n",
      "fbs         0\n",
      "restecg     0\n",
      "thalach     0\n",
      "exang       0\n",
      "oldpeak     0\n",
      "slope       0\n",
      "ca          0\n",
      "thal        0\n",
      "target      0\n",
      "dtype: int64\n"
     ]
    }
   ],
   "source": [
    "print(df.isnull().sum())"
   ]
  },
  {
   "cell_type": "code",
   "execution_count": 24,
   "id": "challenging-titanium",
   "metadata": {},
   "outputs": [
    {
     "name": "stdout",
     "output_type": "stream",
     "text": [
      "0.8771929824561403\n"
     ]
    }
   ],
   "source": [
    "print(metrics.accuracy_score(y_test,guesses))"
   ]
  },
  {
   "cell_type": "code",
   "execution_count": 25,
   "id": "subtle-spiritual",
   "metadata": {},
   "outputs": [
    {
     "name": "stdout",
     "output_type": "stream",
     "text": [
      "[[29  5]\n",
      " [ 9 71]]\n",
      "0.8771929824561403\n"
     ]
    }
   ],
   "source": [
    "classifier = KNeighborsClassifier(n_neighbors =5)\n",
    "classifier.fit(X_train, y_train)\n",
    "guesses = classifier.predict(X_test)\n",
    "print(confusion_matrix(y_test,guesses))\n",
    "print(metrics.accuracy_score(y_test, guesses))"
   ]
  },
  {
   "cell_type": "code",
   "execution_count": 27,
   "id": "congressional-dutch",
   "metadata": {},
   "outputs": [],
   "source": [
    "training_points = df.drop(columns=['target', 'thal'])\n",
    "training_labels = df['target']\n",
    "\n",
    "X_train, X_test, y_train, y_test = train_test_split(\n",
    "training_points, training_labels, test_size=0.3, random_state=4)"
   ]
  },
  {
   "cell_type": "code",
   "execution_count": 28,
   "id": "official-senate",
   "metadata": {},
   "outputs": [
    {
     "name": "stdout",
     "output_type": "stream",
     "text": [
      "[[54  3]\n",
      " [26  8]]\n",
      "0.6813186813186813\n"
     ]
    }
   ],
   "source": [
    "classifier = KNeighborsClassifier(n_neighbors =5)\n",
    "classifier.fit(X_train, y_train)\n",
    "guesses = classifier.predict(X_test)\n",
    "print(confusion_matrix(y_test,guesses))\n",
    "print(metrics.accuracy_score(y_test, guesses))"
   ]
  },
  {
   "cell_type": "code",
   "execution_count": 29,
   "id": "mounted-binary",
   "metadata": {},
   "outputs": [
    {
     "name": "stdout",
     "output_type": "stream",
     "text": [
      "[0.6923076923076923, 0.6593406593406593, 0.6923076923076923, 0.6593406593406593, 0.6813186813186813, 0.6593406593406593, 0.6813186813186813, 0.6593406593406593, 0.6593406593406593, 0.6593406593406593, 0.6703296703296703, 0.6593406593406593, 0.6483516483516484, 0.6483516483516484, 0.6703296703296703, 0.6593406593406593, 0.6593406593406593, 0.6373626373626373, 0.6373626373626373, 0.6263736263736264, 0.6263736263736264, 0.6263736263736264, 0.6373626373626373, 0.6373626373626373, 0.6373626373626373, 0.6263736263736264, 0.6263736263736264, 0.6373626373626373, 0.6373626373626373, 0.6373626373626373, 0.6373626373626373, 0.6263736263736264, 0.6263736263736264, 0.6263736263736264, 0.6263736263736264, 0.6263736263736264, 0.6263736263736264, 0.6263736263736264, 0.6263736263736264, 0.6263736263736264, 0.6263736263736264, 0.6263736263736264, 0.6263736263736264, 0.6263736263736264, 0.6263736263736264, 0.6263736263736264, 0.6263736263736264, 0.6263736263736264, 0.6263736263736264]\n"
     ]
    }
   ],
   "source": [
    "k_range = range(1,50)\n",
    "accuracy_scores = []\n",
    "for k in k_range:\n",
    "    classifier = KNeighborsClassifier(n_neighbors = k)\n",
    "    classifier.fit(X_train, y_train)\n",
    "    guesses = classifier.predict(X_test)\n",
    "    accuracy_scores.append(metrics.accuracy_score(y_test, guesses))\n",
    "    \n",
    "print(accuracy_scores)"
   ]
  },
  {
   "cell_type": "code",
   "execution_count": 30,
   "id": "needed-printer",
   "metadata": {},
   "outputs": [
    {
     "data": {
      "image/png": "[encoded data removed]",
      "text/plain": [
       "<Figure size 432x288 with 1 Axes>"
      ]
     },
     "metadata": {
      "needs_background": "light"
     },
     "output_type": "display_data"
    }
   ],
   "source": [
    "plt.plot(k_range,accuracy_scores)\n",
    "plt.xlabel('Value of K for KNN')\n",
    "plt.ylabel('Testing Accuracy')\n",
    "plt.show()"
   ]
  },
  {
   "cell_type": "code",
   "execution_count": 38,
   "id": "accessible-margin",
   "metadata": {},
   "outputs": [
    {
     "name": "stdout",
     "output_type": "stream",
     "text": [
      "[0.8064516129032258, 0.7419354838709677, 0.8387096774193549, 0.7741935483870968, 0.8064516129032258, 0.8709677419354839, 0.8709677419354839, 0.8387096774193549, 0.9032258064516129, 0.8387096774193549, 0.8709677419354839, 0.8387096774193549, 0.8709677419354839, 0.8709677419354839, 0.8709677419354839, 0.8709677419354839, 0.8709677419354839, 0.8387096774193549, 0.8709677419354839, 0.8387096774193549, 0.8709677419354839, 0.8387096774193549, 0.8709677419354839, 0.8709677419354839, 0.8709677419354839, 0.8709677419354839, 0.8709677419354839, 0.8709677419354839, 0.8709677419354839, 0.8709677419354839, 0.8709677419354839, 0.8709677419354839, 0.8709677419354839, 0.8387096774193549, 0.8387096774193549, 0.8387096774193549, 0.8387096774193549, 0.8387096774193549, 0.8709677419354839, 0.8709677419354839, 0.8709677419354839, 0.8387096774193549, 0.8064516129032258, 0.8064516129032258, 0.8387096774193549, 0.8387096774193549, 0.8709677419354839, 0.8387096774193549, 0.8709677419354839]\n"
     ]
    }
   ],
   "source": [
    "from sklearn.preprocessing import StandardScaler\n",
    "\n",
    "df_model = df.copy()\n",
    "scaler = StandardScaler()\n",
    "features = [['age','trestbps','chol','thalach','oldpeak']]\n",
    "for feature in features:\n",
    "    df_model[feature] = scaler.fit_transform(df_model[feature])\n",
    "    \n",
    "training_points = df_model.drop(columns =['target','thal'])\n",
    "training_labels = df_model['target']\n",
    "\n",
    "X_train, X_test, y_train, y_test = train_test_split(\n",
    "training_points, training_labels, test_size=0.1, random_state=4)\n",
    "\n",
    "k_range = range(1,50)\n",
    "accuracy_scores = []\n",
    "for k in k_range:\n",
    "    classifier = KNeighborsClassifier(n_neighbors = k)\n",
    "    classifier.fit(X_train, y_train)\n",
    "    guesses = classifier.predict(X_test)\n",
    "    accuracy_scores.append(metrics.accuracy_score(y_test, guesses))\n",
    "    \n",
    "print(accuracy_scores)"
   ]
  },
  {
   "cell_type": "code",
   "execution_count": 32,
   "id": "infectious-pharmacology",
   "metadata": {},
   "outputs": [
    {
     "data": {
      "text/html": [
       "<div>\n",
       "<style scoped>\n",
       "    .dataframe tbody tr th:only-of-type {\n",
       "        vertical-align: middle;\n",
       "    }\n",
       "\n",
       "    .dataframe tbody tr th {\n",
       "        vertical-align: top;\n",
       "    }\n",
       "\n",
       "    .dataframe thead th {\n",
       "        text-align: right;\n",
       "    }\n",
       "</style>\n",
       "<table border=\"1\" class=\"dataframe\">\n",
       "  <thead>\n",
       "    <tr style=\"text-align: right;\">\n",
       "      <th></th>\n",
       "      <th>age</th>\n",
       "      <th>sex</th>\n",
       "      <th>cp</th>\n",
       "      <th>trestbps</th>\n",
       "      <th>chol</th>\n",
       "      <th>fbs</th>\n",
       "      <th>restecg</th>\n",
       "      <th>thalach</th>\n",
       "      <th>exang</th>\n",
       "      <th>oldpeak</th>\n",
       "      <th>slope</th>\n",
       "      <th>ca</th>\n",
       "      <th>thal</th>\n",
       "      <th>target</th>\n",
       "    </tr>\n",
       "  </thead>\n",
       "  <tbody>\n",
       "    <tr>\n",
       "      <th>0</th>\n",
       "      <td>0.933840</td>\n",
       "      <td>1</td>\n",
       "      <td>1</td>\n",
       "      <td>0.745781</td>\n",
       "      <td>-0.260087</td>\n",
       "      <td>1</td>\n",
       "      <td>2</td>\n",
       "      <td>0.034808</td>\n",
       "      <td>0</td>\n",
       "      <td>1.068045</td>\n",
       "      <td>3</td>\n",
       "      <td>0</td>\n",
       "      <td>fixed</td>\n",
       "      <td>0</td>\n",
       "    </tr>\n",
       "    <tr>\n",
       "      <th>1</th>\n",
       "      <td>1.378211</td>\n",
       "      <td>1</td>\n",
       "      <td>4</td>\n",
       "      <td>1.592329</td>\n",
       "      <td>0.757388</td>\n",
       "      <td>0</td>\n",
       "      <td>2</td>\n",
       "      <td>-1.780616</td>\n",
       "      <td>1</td>\n",
       "      <td>0.380229</td>\n",
       "      <td>2</td>\n",
       "      <td>3</td>\n",
       "      <td>normal</td>\n",
       "      <td>1</td>\n",
       "    </tr>\n",
       "    <tr>\n",
       "      <th>2</th>\n",
       "      <td>1.378211</td>\n",
       "      <td>1</td>\n",
       "      <td>4</td>\n",
       "      <td>-0.665131</td>\n",
       "      <td>-0.336877</td>\n",
       "      <td>0</td>\n",
       "      <td>2</td>\n",
       "      <td>-0.872904</td>\n",
       "      <td>1</td>\n",
       "      <td>1.325977</td>\n",
       "      <td>2</td>\n",
       "      <td>2</td>\n",
       "      <td>reversible</td>\n",
       "      <td>0</td>\n",
       "    </tr>\n",
       "    <tr>\n",
       "      <th>3</th>\n",
       "      <td>-1.954574</td>\n",
       "      <td>1</td>\n",
       "      <td>3</td>\n",
       "      <td>-0.100766</td>\n",
       "      <td>0.066273</td>\n",
       "      <td>0</td>\n",
       "      <td>0</td>\n",
       "      <td>1.634109</td>\n",
       "      <td>0</td>\n",
       "      <td>2.099771</td>\n",
       "      <td>3</td>\n",
       "      <td>0</td>\n",
       "      <td>normal</td>\n",
       "      <td>0</td>\n",
       "    </tr>\n",
       "    <tr>\n",
       "      <th>4</th>\n",
       "      <td>-1.510203</td>\n",
       "      <td>0</td>\n",
       "      <td>2</td>\n",
       "      <td>-0.100766</td>\n",
       "      <td>-0.816818</td>\n",
       "      <td>0</td>\n",
       "      <td>2</td>\n",
       "      <td>0.985744</td>\n",
       "      <td>0</td>\n",
       "      <td>0.294252</td>\n",
       "      <td>1</td>\n",
       "      <td>0</td>\n",
       "      <td>normal</td>\n",
       "      <td>0</td>\n",
       "    </tr>\n",
       "    <tr>\n",
       "      <th>...</th>\n",
       "      <td>...</td>\n",
       "      <td>...</td>\n",
       "      <td>...</td>\n",
       "      <td>...</td>\n",
       "      <td>...</td>\n",
       "      <td>...</td>\n",
       "      <td>...</td>\n",
       "      <td>...</td>\n",
       "      <td>...</td>\n",
       "      <td>...</td>\n",
       "      <td>...</td>\n",
       "      <td>...</td>\n",
       "      <td>...</td>\n",
       "      <td>...</td>\n",
       "    </tr>\n",
       "    <tr>\n",
       "      <th>298</th>\n",
       "      <td>-0.288181</td>\n",
       "      <td>1</td>\n",
       "      <td>1</td>\n",
       "      <td>-0.778004</td>\n",
       "      <td>-1.162375</td>\n",
       "      <td>0</td>\n",
       "      <td>2</td>\n",
       "      <td>1.763783</td>\n",
       "      <td>0</td>\n",
       "      <td>-0.909428</td>\n",
       "      <td>2</td>\n",
       "      <td>0</td>\n",
       "      <td>fixed</td>\n",
       "      <td>0</td>\n",
       "    </tr>\n",
       "    <tr>\n",
       "      <th>299</th>\n",
       "      <td>-1.288017</td>\n",
       "      <td>0</td>\n",
       "      <td>4</td>\n",
       "      <td>0.012107</td>\n",
       "      <td>1.813257</td>\n",
       "      <td>1</td>\n",
       "      <td>2</td>\n",
       "      <td>-0.570333</td>\n",
       "      <td>1</td>\n",
       "      <td>1.669885</td>\n",
       "      <td>2</td>\n",
       "      <td>0</td>\n",
       "      <td>reversible</td>\n",
       "      <td>1</td>\n",
       "    </tr>\n",
       "    <tr>\n",
       "      <th>300</th>\n",
       "      <td>1.156026</td>\n",
       "      <td>1</td>\n",
       "      <td>4</td>\n",
       "      <td>0.181416</td>\n",
       "      <td>0.143064</td>\n",
       "      <td>0</td>\n",
       "      <td>2</td>\n",
       "      <td>-0.959353</td>\n",
       "      <td>0</td>\n",
       "      <td>1.497931</td>\n",
       "      <td>2</td>\n",
       "      <td>1</td>\n",
       "      <td>reversible</td>\n",
       "      <td>1</td>\n",
       "    </tr>\n",
       "    <tr>\n",
       "      <th>301</th>\n",
       "      <td>-0.732553</td>\n",
       "      <td>1</td>\n",
       "      <td>4</td>\n",
       "      <td>-0.100766</td>\n",
       "      <td>0.181459</td>\n",
       "      <td>1</td>\n",
       "      <td>2</td>\n",
       "      <td>0.034808</td>\n",
       "      <td>1</td>\n",
       "      <td>-0.909428</td>\n",
       "      <td>1</td>\n",
       "      <td>2</td>\n",
       "      <td>reversible</td>\n",
       "      <td>1</td>\n",
       "    </tr>\n",
       "    <tr>\n",
       "      <th>302</th>\n",
       "      <td>0.933840</td>\n",
       "      <td>0</td>\n",
       "      <td>4</td>\n",
       "      <td>1.027964</td>\n",
       "      <td>3.080301</td>\n",
       "      <td>0</td>\n",
       "      <td>2</td>\n",
       "      <td>0.207705</td>\n",
       "      <td>0</td>\n",
       "      <td>2.529656</td>\n",
       "      <td>2</td>\n",
       "      <td>3</td>\n",
       "      <td>reversible</td>\n",
       "      <td>1</td>\n",
       "    </tr>\n",
       "  </tbody>\n",
       "</table>\n",
       "<p>303 rows × 14 columns</p>\n",
       "</div>"
      ],
      "text/plain": [
       "          age  sex  cp  trestbps      chol  fbs  restecg   thalach  exang  \\\n",
       "0    0.933840    1   1  0.745781 -0.260087    1        2  0.034808      0   \n",
       "1    1.378211    1   4  1.592329  0.757388    0        2 -1.780616      1   \n",
       "2    1.378211    1   4 -0.665131 -0.336877    0        2 -0.872904      1   \n",
       "3   -1.954574    1   3 -0.100766  0.066273    0        0  1.634109      0   \n",
       "4   -1.510203    0   2 -0.100766 -0.816818    0        2  0.985744      0   \n",
       "..        ...  ...  ..       ...       ...  ...      ...       ...    ...   \n",
       "298 -0.288181    1   1 -0.778004 -1.162375    0        2  1.763783      0   \n",
       "299 -1.288017    0   4  0.012107  1.813257    1        2 -0.570333      1   \n",
       "300  1.156026    1   4  0.181416  0.143064    0        2 -0.959353      0   \n",
       "301 -0.732553    1   4 -0.100766  0.181459    1        2  0.034808      1   \n",
       "302  0.933840    0   4  1.027964  3.080301    0        2  0.207705      0   \n",
       "\n",
       "      oldpeak  slope  ca        thal  target  \n",
       "0    1.068045      3   0       fixed       0  \n",
       "1    0.380229      2   3      normal       1  \n",
       "2    1.325977      2   2  reversible       0  \n",
       "3    2.099771      3   0      normal       0  \n",
       "4    0.294252      1   0      normal       0  \n",
       "..        ...    ...  ..         ...     ...  \n",
       "298 -0.909428      2   0       fixed       0  \n",
       "299  1.669885      2   0  reversible       1  \n",
       "300  1.497931      2   1  reversible       1  \n",
       "301 -0.909428      1   2  reversible       1  \n",
       "302  2.529656      2   3  reversible       1  \n",
       "\n",
       "[303 rows x 14 columns]"
      ]
     },
     "execution_count": 32,
     "metadata": {},
     "output_type": "execute_result"
    }
   ],
   "source": [
    "df_model"
   ]
  },
  {
   "cell_type": "code",
   "execution_count": 34,
   "id": "appointed-palestine",
   "metadata": {},
   "outputs": [
    {
     "name": "stdout",
     "output_type": "stream",
     "text": [
      "[0.6923076923076923, 0.6593406593406593, 0.6923076923076923, 0.6593406593406593, 0.6813186813186813, 0.6593406593406593, 0.6813186813186813, 0.6593406593406593, 0.6593406593406593, 0.6593406593406593, 0.6703296703296703, 0.6593406593406593, 0.6483516483516484, 0.6483516483516484, 0.6703296703296703, 0.6593406593406593, 0.6593406593406593, 0.6373626373626373, 0.6373626373626373, 0.6263736263736264, 0.6263736263736264, 0.6263736263736264, 0.6373626373626373, 0.6373626373626373, 0.6373626373626373, 0.6263736263736264, 0.6263736263736264, 0.6373626373626373, 0.6373626373626373, 0.6373626373626373, 0.6373626373626373, 0.6263736263736264, 0.6263736263736264, 0.6263736263736264, 0.6263736263736264, 0.6263736263736264, 0.6263736263736264, 0.6263736263736264, 0.6263736263736264, 0.6263736263736264, 0.6263736263736264, 0.6263736263736264, 0.6263736263736264, 0.6263736263736264, 0.6263736263736264, 0.6263736263736264, 0.6263736263736264, 0.6263736263736264, 0.6263736263736264]\n"
     ]
    }
   ],
   "source": [
    "k_range = range(1,50)\n",
    "accuracy_scores = []\n",
    "for k in k_range:\n",
    "    classifier = KNeighborsClassifier(n_neighbors = k)\n",
    "    classifier.fit(X_train, y_train)\n",
    "    guesses = classifier.predict(X_test)\n",
    "    accuracy_scores.append(metrics.accuracy_score(y_test, guesses))\n",
    "    \n",
    "print(accuracy_scores)"
   ]
  },
  {
   "cell_type": "code",
   "execution_count": 39,
   "id": "suitable-lloyd",
   "metadata": {},
   "outputs": [
    {
     "data": {
      "image/png": "[encoded data removed]",
      "text/plain": [
       "<Figure size 432x288 with 1 Axes>"
      ]
     },
     "metadata": {
      "needs_background": "light"
     },
     "output_type": "display_data"
    }
   ],
   "source": [
    "plt.plot(k_range,accuracy_scores)\n",
    "plt.xlabel('Value of K for KNN')\n",
    "plt.ylabel('Testing Accuracy')\n",
    "plt.show()"
   ]
  },
  {
   "cell_type": "code",
   "execution_count": 51,
   "id": "regional-boulder",
   "metadata": {},
   "outputs": [],
   "source": [
    "from sklearn.preprocessing import MinMaxScaler\n",
    "\n",
    "df_model = df.copy()\n",
    "scaler = MinMaxScaler()\n",
    "features = [['age','trestbps','chol','thalach','oldpeak']]\n",
    "for feature in features:\n",
    "    df_model[feature] = scaler.fit_transform(df_model[feature])\n",
    "\n",
    "training_points = df_model.drop(columns =['target','thal'])\n",
    "training_labels = df_model['target']\n",
    "\n",
    "X_train, X_test, y_train, y_test = train_test_split(\n",
    "training_points, training_labels, test_size=0.1, random_state=4)\n"
   ]
  },
  {
   "cell_type": "code",
   "execution_count": 52,
   "id": "ecological-communications",
   "metadata": {},
   "outputs": [
    {
     "name": "stdout",
     "output_type": "stream",
     "text": [
      "[0.8064516129032258, 0.8064516129032258, 0.9032258064516129, 0.8709677419354839, 0.9032258064516129, 0.8709677419354839, 0.9032258064516129, 0.8709677419354839, 0.8387096774193549, 0.8387096774193549, 0.8387096774193549, 0.8064516129032258, 0.8387096774193549, 0.8709677419354839, 0.8709677419354839, 0.8709677419354839, 0.8709677419354839, 0.8709677419354839, 0.8709677419354839, 0.8709677419354839, 0.8709677419354839, 0.8709677419354839, 0.8709677419354839, 0.8709677419354839, 0.8709677419354839, 0.8709677419354839, 0.8709677419354839, 0.8709677419354839, 0.8709677419354839, 0.8387096774193549, 0.8387096774193549, 0.8387096774193549, 0.8387096774193549, 0.8387096774193549, 0.8387096774193549, 0.8387096774193549, 0.8387096774193549, 0.8387096774193549, 0.8387096774193549, 0.8387096774193549, 0.8387096774193549, 0.8387096774193549, 0.8387096774193549, 0.8387096774193549, 0.8387096774193549, 0.8387096774193549, 0.8387096774193549, 0.8387096774193549, 0.8387096774193549]\n"
     ]
    }
   ],
   "source": [
    "k_range = range(1,50)\n",
    "accuracy_scores = []\n",
    "for k in k_range:\n",
    "    classifier = KNeighborsClassifier(n_neighbors = k)\n",
    "    classifier.fit(X_train, y_train)\n",
    "    guesses = classifier.predict(X_test)\n",
    "    accuracy_scores.append(metrics.accuracy_score(y_test, guesses))\n",
    "    \n",
    "print(accuracy_scores)"
   ]
  },
  {
   "cell_type": "code",
   "execution_count": 53,
   "id": "saved-debut",
   "metadata": {},
   "outputs": [
    {
     "data": {
      "image/png": "[encoded data removed]",
      "text/plain": [
       "<Figure size 432x288 with 1 Axes>"
      ]
     },
     "metadata": {
      "needs_background": "light"
     },
     "output_type": "display_data"
    }
   ],
   "source": [
    "plt.plot(k_range,accuracy_scores)\n",
    "plt.xlabel('Value of K for KNN')\n",
    "plt.ylabel('Testing Accuracy')\n",
    "plt.show()"
   ]
  },
  {
   "cell_type": "code",
   "execution_count": null,
   "id": "sublime-algeria",
   "metadata": {},
   "outputs": [],
   "source": []
  }
 ],
 "metadata": {
  "kernelspec": {
   "display_name": "Python 3",
   "language": "python",
   "name": "python3"
  },
  "language_info": {
   "codemirror_mode": {
    "name": "ipython",
    "version": 3
   },
   "file_extension": ".py",
   "mimetype": "text/x-python",
   "name": "python",
   "nbconvert_exporter": "python",
   "pygments_lexer": "ipython3",
   "version": "3.8.6"
  }
 },
 "nbformat": 4,
 "nbformat_minor": 5
}
